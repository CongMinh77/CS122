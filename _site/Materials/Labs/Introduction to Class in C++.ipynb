{
 "cells": [
  {
   "cell_type": "code",
   "execution_count": 1,
   "metadata": {},
   "outputs": [],
   "source": [
    "#include <iostream>\n",
    "using namespace std;"
   ]
  },
  {
   "cell_type": "code",
   "execution_count": 2,
   "metadata": {},
   "outputs": [],
   "source": [
    "class Human\n",
    "{\n",
    "    private:\n",
    "        string fullname;\n",
    "        int day_DOB;\n",
    "        int month_DOB;\n",
    "        int year_DOB;\n",
    "        bool sex;\n",
    "        string phonenumber;\n",
    "        string email;\n",
    "    public:\n",
    "        //methods - behaviors \n",
    "        Human()\n",
    "        {\n",
    "            \n",
    "        }\n",
    "        Human(string fname)\n",
    "        {\n",
    "            this -> fullname = fname;\n",
    "        }\n",
    "        Human(string fname, int day, int month, int year, bool sex, string phonenumber, string email)\n",
    "        {\n",
    "            this ->fullname=fname;\n",
    "            this ->day_DOB=day;\n",
    "            this-> month_DOB=month;\n",
    "            this ->year_DOB=year;\n",
    "            this ->sex=sex;\n",
    "            this ->phonenumber=phonenumber;\n",
    "            this ->email=email;\n",
    "        }\n",
    "        void run()\n",
    "        {\n",
    "            cout<<this->fullname<<\" R.U.N.N.N\"<<endl;\n",
    "        }\n",
    "        void jump()\n",
    "        {\n",
    "            cout<<this->fullname<<\" J.U.M.P.P\"<<endl;\n",
    "        }\n",
    "        void say(string content)\n",
    "        {\n",
    "            cout<<this->fullname<<\" said: \"<< content<<endl;\n",
    "        }\n",
    "};"
   ]
  },
  {
   "cell_type": "code",
   "execution_count": 3,
   "metadata": {},
   "outputs": [],
   "source": [
    "Human thang(\"NGUYEN DUC THANG\");"
   ]
  },
  {
   "cell_type": "code",
   "execution_count": 4,
   "metadata": {},
   "outputs": [
    {
     "name": "stdout",
     "output_type": "stream",
     "text": [
      "NGUYEN DUC THANG R.U.N.N.N\n"
     ]
    }
   ],
   "source": [
    "thang.run()"
   ]
  },
  {
   "cell_type": "code",
   "execution_count": 5,
   "metadata": {},
   "outputs": [],
   "source": [
    "Human Duong(\"DO THE DUONG\",01,01,2000,0,\"050638679\",\"abc@xxx.com\");"
   ]
  },
  {
   "cell_type": "code",
   "execution_count": 6,
   "metadata": {},
   "outputs": [
    {
     "name": "stdout",
     "output_type": "stream",
     "text": [
      "DO THE DUONG said: I love you\n"
     ]
    }
   ],
   "source": [
    "Duong.say(\"I love you\");"
   ]
  },
  {
   "cell_type": "code",
   "execution_count": null,
   "metadata": {},
   "outputs": [],
   "source": []
  }
 ],
 "metadata": {
  "kernelspec": {
   "display_name": "C++11",
   "language": "C++11",
   "name": "xeus-cling-cpp11"
  },
  "language_info": {
   "codemirror_mode": "text/x-c++src",
   "file_extension": ".cpp",
   "mimetype": "text/x-c++src",
   "name": "c++",
   "version": "-std=c++11"
  }
 },
 "nbformat": 4,
 "nbformat_minor": 2
}
