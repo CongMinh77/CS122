{
 "cells": [
  {
   "cell_type": "code",
   "execution_count": 1,
   "metadata": {},
   "outputs": [],
   "source": [
    "#include <iostream>\n",
    "using namespace std;"
   ]
  },
  {
   "cell_type": "code",
   "execution_count": 2,
   "metadata": {},
   "outputs": [],
   "source": [
    "class sophuc\n",
    "{\n",
    "public:\n",
    "\tfloat phanthuc;\n",
    "\tfloat phanao;\n",
    "public:\n",
    "    sophuc()\n",
    "    {\n",
    "        this->phanthuc = 0;\n",
    "        this->phanao = 0;\n",
    "    }\n",
    "    sophuc(float phanthuc)\n",
    "    {\n",
    "        this-> phanthuc = phanthuc;\n",
    "        this-> phanao = 0;\n",
    "    }\n",
    "    sophuc(float phanthuc, float phanao)\n",
    "    {\n",
    "        this-> phanthuc = phanthuc;\n",
    "        this-> phanao = phanao;\n",
    "    }\n",
    "\t\n",
    "};"
   ]
  },
  {
   "cell_type": "code",
   "execution_count": 3,
   "metadata": {},
   "outputs": [],
   "source": [
    "sophuc a(3,5);"
   ]
  },
  {
   "cell_type": "code",
   "execution_count": 4,
   "metadata": {},
   "outputs": [
    {
     "name": "stdout",
     "output_type": "stream",
     "text": [
      "(float) 3.00000f\n"
     ]
    }
   ],
   "source": [
    "a.phanthuc"
   ]
  },
  {
   "cell_type": "code",
   "execution_count": 5,
   "metadata": {},
   "outputs": [
    {
     "name": "stdout",
     "output_type": "stream",
     "text": [
      "(float) 5.00000f\n"
     ]
    }
   ],
   "source": [
    "a.phanao"
   ]
  },
  {
   "cell_type": "code",
   "execution_count": 6,
   "metadata": {},
   "outputs": [],
   "source": [
    "class phanso{\n",
    "    public:\n",
    "        int tuso;\n",
    "        int mauso;\n",
    "    public:\n",
    "        phanso()\n",
    "        {\n",
    "            this->tuso = 0;\n",
    "            this->mauso = 1;\n",
    "        }\n",
    "        \n",
    "};"
   ]
  },
  {
   "cell_type": "code",
   "execution_count": 7,
   "metadata": {},
   "outputs": [],
   "source": [
    "phanso b;"
   ]
  },
  {
   "cell_type": "code",
   "execution_count": 8,
   "metadata": {},
   "outputs": [
    {
     "name": "stdout",
     "output_type": "stream",
     "text": [
      "(int) 0\n"
     ]
    }
   ],
   "source": [
    "b.tuso"
   ]
  },
  {
   "cell_type": "code",
   "execution_count": 9,
   "metadata": {},
   "outputs": [
    {
     "name": "stdout",
     "output_type": "stream",
     "text": [
      "(int) 1\n"
     ]
    }
   ],
   "source": [
    "b.mauso"
   ]
  },
  {
   "cell_type": "code",
   "execution_count": null,
   "metadata": {},
   "outputs": [],
   "source": []
  }
 ],
 "metadata": {
  "kernelspec": {
   "display_name": "xeus C++14",
   "language": "",
   "name": "xeus-cling-cpp14"
  },
  "language_info": {
   "codemirror_mode": "text/x-c++src",
   "file_extension": ".cpp",
   "mimetype": "text/x-c++src",
   "name": "c++",
   "version": ""
  }
 },
 "nbformat": 4,
 "nbformat_minor": 2
}
