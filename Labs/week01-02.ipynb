{
 "cells": [
  {
   "cell_type": "code",
   "execution_count": 1,
   "metadata": {},
   "outputs": [],
   "source": [
    "#include <iostream>\n",
    "using namespace std;"
   ]
  },
  {
   "cell_type": "code",
   "execution_count": 2,
   "metadata": {},
   "outputs": [],
   "source": [
    "class Phanso\n",
    "{\n",
    "    private :\n",
    "        int tuso;\n",
    "        int mauso;\n",
    "    public:\n",
    "        Phanso()\n",
    "        {\n",
    "            this->tuso=0;\n",
    "            this->mauso=1;\n",
    "        }\n",
    "        Phanso(int a)\n",
    "        {\n",
    "            this->tuso=a;\n",
    "            this->mauso = 1;\n",
    "        }\n",
    "        \n",
    "        Phanso(int a,int b)\n",
    "        {\n",
    "            this->tuso=a;\n",
    "            this->mauso=b;\n",
    "        }\n",
    "        //setters\n",
    "        void setPhanso(int a,int b)\n",
    "        {\n",
    "            this->tuso = a;\n",
    "            this->mauso =b;\n",
    "        }\n",
    "    \n",
    "        void setTuso(int a)\n",
    "        {\n",
    "            this->tuso=a;\n",
    "    \n",
    "        }\n",
    "        void setMauso(int b)\n",
    "        {\n",
    "            this->mauso=b;\n",
    "\n",
    "        }\n",
    "    \n",
    "        //getters\n",
    "        int getTuso()\n",
    "        {\n",
    "            return this->tuso;\n",
    "        }\n",
    "         int getMauso()\n",
    "        {\n",
    "            return this->mauso;\n",
    "        }\n",
    "    \n",
    "        Phanso operator + (Phanso b)\n",
    "        {\n",
    "            Phanso kq;\n",
    "            \n",
    "            kq.tuso = this->tuso*b.mauso + this->mauso*b.tuso;\n",
    "            kq.mauso = this->mauso*b.mauso;\n",
    "            \n",
    "            return kq;\n",
    "        }\n",
    "        void operator += (Phanso b){\n",
    "            this -> tuso =this->tuso*b.mauso + this->mauso*b.tuso;\n",
    "            this -> mauso =this->mauso*b.mauso;\n",
    "        }\n",
    "        \n",
    "        Phanso operator -(Phanso b)\n",
    "        {\n",
    "            Phanso kq;\n",
    "            //c1\n",
    "            kq.tuso = this->tuso*b.mauso - this->mauso*b.tuso;\n",
    "            kq.mauso = this->mauso*b.mauso;\n",
    "            \n",
    "            //c2\n",
    "            kq.setTuso(this->tuso*b.getMauso() - this->mauso*b.getTuso());\n",
    "            kq.setMauso(this->mauso*b.getMauso());\n",
    "            \n",
    "            return kq;\n",
    "        }\n",
    "        Phanso operator +(int c)\n",
    "        {\n",
    "            Phanso kq;\n",
    "            kq.tuso = this->tuso+this->mauso*c;\n",
    "            kq.mauso = this->mauso;\n",
    "            return kq;\n",
    "        }\n",
    "        float congLayThuc(Phanso b)\n",
    "        {\n",
    "            int tusokq = this->tuso*b.mauso + this->mauso*b.tuso;\n",
    "            int mausokq = this->mauso*b.mauso;\n",
    "            \n",
    "            return (float)tusokq/mausokq;\n",
    "            \n",
    "        }\n",
    "        void print()\n",
    "        {\n",
    "            cout<<this->tuso<<\"/\"<<this->mauso<<endl;\n",
    "        }\n",
    "    \n",
    "};"
   ]
  },
  {
   "cell_type": "code",
   "execution_count": 3,
   "metadata": {},
   "outputs": [],
   "source": [
    "Phanso a(3);"
   ]
  },
  {
   "cell_type": "code",
   "execution_count": 4,
   "metadata": {},
   "outputs": [
    {
     "name": "stdout",
     "output_type": "stream",
     "text": [
      "3/1\n"
     ]
    }
   ],
   "source": [
    "a.print()"
   ]
  },
  {
   "cell_type": "code",
   "execution_count": 5,
   "metadata": {},
   "outputs": [],
   "source": [
    "Phanso b;"
   ]
  },
  {
   "cell_type": "code",
   "execution_count": 6,
   "metadata": {},
   "outputs": [
    {
     "name": "stdout",
     "output_type": "stream",
     "text": [
      "0/1\n"
     ]
    }
   ],
   "source": [
    "b.print()"
   ]
  },
  {
   "cell_type": "code",
   "execution_count": 7,
   "metadata": {},
   "outputs": [],
   "source": [
    "Phanso c(2,3);"
   ]
  },
  {
   "cell_type": "code",
   "execution_count": 8,
   "metadata": {},
   "outputs": [
    {
     "name": "stdout",
     "output_type": "stream",
     "text": [
      "2/3\n"
     ]
    }
   ],
   "source": [
    "c.print()"
   ]
  },
  {
   "cell_type": "code",
   "execution_count": 9,
   "metadata": {},
   "outputs": [],
   "source": [
    "c.setTuso(5);"
   ]
  },
  {
   "cell_type": "code",
   "execution_count": 10,
   "metadata": {},
   "outputs": [
    {
     "name": "stdout",
     "output_type": "stream",
     "text": [
      "5/3\n"
     ]
    }
   ],
   "source": [
    "c.print()"
   ]
  },
  {
   "cell_type": "code",
   "execution_count": 11,
   "metadata": {},
   "outputs": [],
   "source": [
    "b = a+c;"
   ]
  },
  {
   "cell_type": "code",
   "execution_count": 12,
   "metadata": {},
   "outputs": [
    {
     "name": "stdout",
     "output_type": "stream",
     "text": [
      "14/3\n"
     ]
    }
   ],
   "source": [
    "b.print();"
   ]
  },
  {
   "cell_type": "code",
   "execution_count": 13,
   "metadata": {},
   "outputs": [
    {
     "name": "stdout",
     "output_type": "stream",
     "text": [
      "57/9\n"
     ]
    }
   ],
   "source": [
    "b +=c;\n",
    "b.print();"
   ]
  }
 ],
 "metadata": {
  "kernelspec": {
   "display_name": "xeus C++14",
   "language": "",
   "name": "xeus-cling-cpp14"
  },
  "language_info": {
   "codemirror_mode": "text/x-c++src",
   "file_extension": ".cpp",
   "mimetype": "text/x-c++src",
   "name": "c++",
   "version": ""
  }
 },
 "nbformat": 4,
 "nbformat_minor": 2
}
